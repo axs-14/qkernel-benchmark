{
 "cells": [
  {
   "cell_type": "code",
   "execution_count": 1,
   "id": "7e2f81ff-225a-4384-9884-5ba2c1771f02",
   "metadata": {},
   "outputs": [],
   "source": [
    "import pennylane as qml\n",
    "import numpy as np\n",
    "\n",
    "# 2-qubit statevector simulator\n",
    "dev = qml.device(\"default.qubit\", wires=2, shots=None)\n"
   ]
  },
  {
   "cell_type": "code",
   "execution_count": 2,
   "id": "6b227936-f464-44e2-b98d-3dbfa12085fa",
   "metadata": {},
   "outputs": [],
   "source": [
    "def feature_map(x):\n",
    "    # ensure numpy array of length 2\n",
    "    x = np.asarray(x, dtype=float)\n",
    "    qml.RX(x[0], wires=0)\n",
    "    qml.RX(x[1], wires=1)\n",
    "    qml.CZ(wires=[0, 1])\n"
   ]
  },
  {
   "cell_type": "code",
   "execution_count": 3,
   "id": "1573c32b-f7f9-43f3-9999-c4611ed7d0d2",
   "metadata": {},
   "outputs": [],
   "source": [
    "@qml.qnode(dev)\n",
    "def kernel_element(x1, x2):\n",
    "    feature_map(x1)\n",
    "    qml.adjoint(feature_map)(x2)\n",
    "    return qml.probs(wires=[0, 1])  # return all probabilities\n"
   ]
  },
  {
   "cell_type": "code",
   "execution_count": 4,
   "id": "8be634e7-ebce-499b-8c94-2bf92e3dc038",
   "metadata": {},
   "outputs": [
    {
     "name": "stdout",
     "output_type": "stream",
     "text": [
      "K(x1,x1) = 1.0\n",
      "K(x2,x2) = 1.0000000000000004\n",
      "K(x1,x2) = 0.9875602675802709\n"
     ]
    }
   ],
   "source": [
    "x1 = np.array([0.5, 1.2])\n",
    "x2 = np.array([0.4, 1.0])\n",
    "\n",
    "probs_11 = kernel_element(x1, x1)\n",
    "probs_22 = kernel_element(x2, x2)\n",
    "probs_12 = kernel_element(x1, x2)\n",
    "\n",
    "k11 = probs_11[0]  # |00> probability\n",
    "k22 = probs_22[0]\n",
    "k12 = probs_12[0]\n",
    "\n",
    "print(\"K(x1,x1) =\", k11)\n",
    "print(\"K(x2,x2) =\", k22)\n",
    "print(\"K(x1,x2) =\", k12)"
   ]
  },
  {
   "cell_type": "code",
   "execution_count": 5,
   "id": "acd74379-7c0d-43d9-9d99-4e78c6e2a4d6",
   "metadata": {},
   "outputs": [],
   "source": [
    "def quantum_kernel(XA, XB):\n",
    "    XA = np.asarray(XA, dtype=float)\n",
    "    XB = np.asarray(XB, dtype=float)\n",
    "    K = np.zeros((len(XA), len(XB)))\n",
    "    for i in range(len(XA)):\n",
    "        for j in range(len(XB)):\n",
    "            K[i, j] = kernel_element(XA[i], XB[j])\n",
    "    return K\n"
   ]
  },
  {
   "cell_type": "code",
   "execution_count": null,
   "id": "7a07dccf-336b-4a1b-97d2-d52e947eaa06",
   "metadata": {},
   "outputs": [],
   "source": []
  }
 ],
 "metadata": {
  "kernelspec": {
   "display_name": "Python (qmlproj)",
   "language": "python",
   "name": "qmlproj"
  },
  "language_info": {
   "codemirror_mode": {
    "name": "ipython",
    "version": 3
   },
   "file_extension": ".py",
   "mimetype": "text/x-python",
   "name": "python",
   "nbconvert_exporter": "python",
   "pygments_lexer": "ipython3",
   "version": "3.10.18"
  }
 },
 "nbformat": 4,
 "nbformat_minor": 5
}
