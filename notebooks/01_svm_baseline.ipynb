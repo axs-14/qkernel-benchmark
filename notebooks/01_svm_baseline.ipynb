{
 "cells": [
  {
   "cell_type": "code",
   "execution_count": 1,
   "id": "38e2eafa-16a8-4e29-b0fd-26d564b9790b",
   "metadata": {},
   "outputs": [
    {
     "name": "stdout",
     "output_type": "stream",
     "text": [
      "Qiskit: 1.2.4\n",
      "PennyLane: 0.42.1\n",
      "scikit-learn: 1.7.1\n"
     ]
    }
   ],
   "source": [
    "import qiskit, pennylane as qml\n",
    "import sklearn, numpy, matplotlib\n",
    "\n",
    "print(\"Qiskit:\", qiskit.__version__)\n",
    "print(\"PennyLane:\", qml.__version__)\n",
    "print(\"scikit-learn:\", sklearn.__version__)"
   ]
  },
  {
   "cell_type": "code",
   "execution_count": 2,
   "id": "b610de81-295e-490e-8e8f-fad87efd7172",
   "metadata": {},
   "outputs": [
    {
     "name": "stdout",
     "output_type": "stream",
     "text": [
      "RBF-SVM accuracy: 100.00%\n"
     ]
    }
   ],
   "source": [
    "from sklearn import datasets\n",
    "from sklearn.model_selection import train_test_split\n",
    "from sklearn.preprocessing import StandardScaler\n",
    "from sklearn.svm import SVC\n",
    "from sklearn.metrics import accuracy_score\n",
    "\n",
    "# Load Iris dataset\n",
    "X, y = datasets.load_iris(return_X_y=True)\n",
    "y = (y == 0).astype(int)  # Binary classification: class 0 vs others\n",
    "\n",
    "# Split data\n",
    "Xtr, Xte, ytr, yte = train_test_split(X, y, test_size=0.2, random_state=0, stratify=y)\n",
    "\n",
    "# Standardize features\n",
    "sc = StandardScaler().fit(Xtr)\n",
    "Xtr_std, Xte_std = sc.transform(Xtr), sc.transform(Xte)\n",
    "\n",
    "# Train RBF-SVM\n",
    "clf = SVC(kernel=\"rbf\", C=1.0, gamma=\"scale\")\n",
    "clf.fit(Xtr_std, ytr)\n",
    "\n",
    "# Evaluate\n",
    "acc = accuracy_score(yte, clf.predict(Xte_std))\n",
    "print(f\"RBF-SVM accuracy: {acc*100:.2f}%\")\n"
   ]
  },
  {
   "cell_type": "code",
   "execution_count": null,
   "id": "3e5d8c1f-6c5f-475d-94ae-34c50659b3f7",
   "metadata": {},
   "outputs": [],
   "source": []
  }
 ],
 "metadata": {
  "kernelspec": {
   "display_name": "Python 3 (ipykernel)",
   "language": "python",
   "name": "python3"
  },
  "language_info": {
   "codemirror_mode": {
    "name": "ipython",
    "version": 3
   },
   "file_extension": ".py",
   "mimetype": "text/x-python",
   "name": "python",
   "nbconvert_exporter": "python",
   "pygments_lexer": "ipython3",
   "version": "3.10.18"
  }
 },
 "nbformat": 4,
 "nbformat_minor": 5
}
