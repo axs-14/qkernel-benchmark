{
 "cells": [
  {
   "cell_type": "code",
   "execution_count": 1,
   "id": "c3b2dcf6-31e6-412d-9177-ed2f9e367581",
   "metadata": {},
   "outputs": [],
   "source": [
    "import numpy as np\n",
    "import pennylane as qml\n",
    "from sklearn import datasets\n",
    "from sklearn.model_selection import train_test_split\n",
    "from sklearn.preprocessing import StandardScaler\n",
    "from sklearn.metrics import accuracy_score\n",
    "\n",
    "# Load Iris and make it binary: Setosa (1) vs Not Setosa (0)\n",
    "X, y = datasets.load_iris(return_X_y=True)\n",
    "y = (y == 0).astype(int)\n",
    "\n",
    "# Use two features to match our 2-qubit feature map\n",
    "# (petal length, petal width) are very discriminative\n",
    "X = X[:, [2, 3]]\n",
    "\n",
    "# Split\n",
    "Xtr, Xte, ytr, yte = train_test_split(\n",
    "    X, y, test_size=0.2, random_state=0, stratify=y\n",
    ")\n",
    "\n",
    "# Standardise features using training stats only\n",
    "sc = StandardScaler().fit(Xtr)\n",
    "Xtr_std, Xte_std = sc.transform(Xtr), sc.transform(Xte)\n",
    "\n",
    "# Map to angles: [-pi, pi] keeps rotations well-conditioned\n",
    "def to_angles(Z):\n",
    "    Z = np.asarray(Z, dtype=float)\n",
    "    # normalise each column by its max absolute value (avoid extreme angles)\n",
    "    denom = np.maximum(np.max(np.abs(Z), axis=0), 1e-9)\n",
    "    Zn = Z / denom\n",
    "    return np.pi * Zn  # angles in [-pi, pi]\n",
    "\n",
    "Xtr_ang = to_angles(Xtr_std)\n",
    "Xte_ang = to_angles(Xte_std)\n"
   ]
  },
  {
   "cell_type": "code",
   "execution_count": 2,
   "id": "8bfff018-0b50-4d88-b83d-0e7a518bfa98",
   "metadata": {},
   "outputs": [],
   "source": [
    "# 2-qubit exact simulator\n",
    "dev = qml.device(\"default.qubit\", wires=2, shots=None)\n",
    "\n",
    "def feature_map(x):\n",
    "    x = np.asarray(x, dtype=float)\n",
    "    qml.RX(x[0], wires=0)\n",
    "    qml.RX(x[1], wires=1)\n",
    "    qml.CZ(wires=[0, 1])\n",
    "\n",
    "@qml.qnode(dev)\n",
    "def kernel_element(x1, x2):\n",
    "    feature_map(x1)\n",
    "    qml.adjoint(feature_map)(x2)\n",
    "    return qml.probs(wires=[0, 1])  # [p00, p01, p10, p11]\n",
    "\n",
    "def quantum_kernel(XA, XB):\n",
    "    XA = np.asarray(XA, dtype=float)\n",
    "    XB = np.asarray(XB, dtype=float)\n",
    "    K = np.zeros((len(XA), len(XB)))\n",
    "    for i in range(len(XA)):\n",
    "        for j in range(len(XB)):\n",
    "            probs = kernel_element(XA[i], XB[j])\n",
    "            K[i, j] = probs[0]  # probability of |00> = |<phi(xi)|phi(xj)>|^2\n",
    "    return K\n"
   ]
  },
  {
   "cell_type": "code",
   "execution_count": 3,
   "id": "a516782f-d72a-4bb4-b92e-0a3360e48c02",
   "metadata": {},
   "outputs": [
    {
     "name": "stdout",
     "output_type": "stream",
     "text": [
      "Quantum-kernel SVM accuracy: 100.00%\n"
     ]
    }
   ],
   "source": [
    "from sklearn.svm import SVC\n",
    "\n",
    "Ktr = quantum_kernel(Xtr_ang, Xtr_ang)   # train-vs-train\n",
    "clf = SVC(kernel=\"precomputed\", C=1.0)\n",
    "clf.fit(Ktr, ytr)\n",
    "\n",
    "Kte = quantum_kernel(Xte_ang, Xtr_ang)   # test-vs-train\n",
    "yhat = clf.predict(Kte)\n",
    "\n",
    "acc = accuracy_score(yte, yhat)\n",
    "print(f\"Quantum-kernel SVM accuracy: {acc*100:.2f}%\")\n"
   ]
  },
  {
   "cell_type": "code",
   "execution_count": 4,
   "id": "26807286-1f10-40bf-8e9b-ad3c35b0eec8",
   "metadata": {},
   "outputs": [
    {
     "name": "stdout",
     "output_type": "stream",
     "text": [
      "Classical RBF-SVM accuracy: 100.00%\n"
     ]
    }
   ],
   "source": [
    "from sklearn.svm import SVC\n",
    "\n",
    "rbf = SVC(kernel=\"rbf\", C=1.0, gamma=\"scale\").fit(Xtr_std, ytr)\n",
    "acc_rbf = accuracy_score(yte, rbf.predict(Xte_std))\n",
    "print(f\"Classical RBF-SVM accuracy: {acc_rbf*100:.2f}%\")\n"
   ]
  },
  {
   "cell_type": "code",
   "execution_count": null,
   "id": "dbf7e372-f946-499d-814d-371e89597b77",
   "metadata": {},
   "outputs": [],
   "source": []
  }
 ],
 "metadata": {
  "kernelspec": {
   "display_name": "Python (qmlproj)",
   "language": "python",
   "name": "qmlproj"
  },
  "language_info": {
   "codemirror_mode": {
    "name": "ipython",
    "version": 3
   },
   "file_extension": ".py",
   "mimetype": "text/x-python",
   "name": "python",
   "nbconvert_exporter": "python",
   "pygments_lexer": "ipython3",
   "version": "3.10.18"
  }
 },
 "nbformat": 4,
 "nbformat_minor": 5
}
