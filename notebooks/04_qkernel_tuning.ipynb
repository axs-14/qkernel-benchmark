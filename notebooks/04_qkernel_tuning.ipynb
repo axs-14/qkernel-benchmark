{
 "cells": [
  {
   "cell_type": "code",
   "execution_count": 1,
   "id": "1f3bb68f-96a0-43be-b956-a37c70f5789f",
   "metadata": {},
   "outputs": [
    {
     "data": {
      "text/plain": [
       "<module 'src.qkernel_utils' from 'C:\\\\Users\\\\fourt\\\\Documents\\\\qkernel-benchmark\\\\src\\\\qkernel_utils.py'>"
      ]
     },
     "execution_count": 1,
     "metadata": {},
     "output_type": "execute_result"
    }
   ],
   "source": [
    "import sys, os, importlib\n",
    "sys.path.insert(0, os.path.abspath(\"..\"))\n",
    "\n",
    "import src.qkernel_utils as qku\n",
    "importlib.reload(qku)\n"
   ]
  },
  {
   "cell_type": "code",
   "execution_count": 2,
   "id": "e97baba5-ed36-46bd-9800-44758abfb41f",
   "metadata": {},
   "outputs": [],
   "source": [
    "import numpy as np\n",
    "import matplotlib.pyplot as plt\n",
    "from sklearn.datasets import make_moons\n",
    "from sklearn.model_selection import StratifiedKFold\n",
    "from sklearn.preprocessing import StandardScaler\n",
    "from sklearn.svm import SVC\n",
    "from sklearn.metrics import accuracy_score\n",
    "\n",
    "# Two moons dataset\n",
    "X, y = make_moons(n_samples=200, noise=0.2, random_state=42)\n",
    "\n",
    "# Train/test split\n",
    "from sklearn.model_selection import train_test_split\n",
    "Xtr, Xte, ytr, yte = train_test_split(X, y, test_size=0.3, stratify=y, random_state=0)\n",
    "\n",
    "# Standardize features\n",
    "sc = StandardScaler().fit(Xtr)\n",
    "Xtr_std, Xte_std = sc.transform(Xtr), sc.transform(Xte)\n",
    "\n",
    "# Map to angles\n",
    "Xtr_ang = qku.to_angles(Xtr_std)\n",
    "Xte_ang = qku.to_angles(Xte_std)\n"
   ]
  },
  {
   "cell_type": "code",
   "execution_count": 3,
   "id": "aa6ba38c-950a-43a1-be6f-99175f840331",
   "metadata": {},
   "outputs": [],
   "source": [
    "dev = qku.make_device(wires=2)\n",
    "\n",
    "k_elem_simple = qku.make_cached_kernel_element(dev, qku.feature_map)\n",
    "k_elem_deep   = qku.make_cached_kernel_element(dev, qku.feature_map_deep)\n"
   ]
  },
  {
   "cell_type": "code",
   "execution_count": 4,
   "id": "bc1cef37-ff8d-465b-96e0-4f12910aa79d",
   "metadata": {},
   "outputs": [],
   "source": [
    "K_full_simple = qku.quantum_kernel_matrix(Xtr_ang, Xtr_ang, k_elem_simple)\n",
    "K_full_deep   = qku.quantum_kernel_matrix(Xtr_ang, Xtr_ang, k_elem_deep)\n",
    "\n",
    "K_test_simple = qku.quantum_kernel_matrix(Xte_ang, Xtr_ang, k_elem_simple)\n",
    "K_test_deep   = qku.quantum_kernel_matrix(Xte_ang, Xtr_ang, k_elem_deep)\n"
   ]
  },
  {
   "cell_type": "code",
   "execution_count": 5,
   "id": "a814143b-5a34-40eb-bae6-fff12496effc",
   "metadata": {},
   "outputs": [],
   "source": [
    "def tune_qsvm_precomputed(K_full, K_test, ytr, yte, C_values):\n",
    "    best_acc, best_C = -1, None\n",
    "    skf = StratifiedKFold(n_splits=3, shuffle=True, random_state=0)\n",
    "\n",
    "    for C in C_values:\n",
    "        scores = []\n",
    "        for tr_idx, va_idx in skf.split(K_full, ytr):\n",
    "            K_tr = K_full[np.ix_(tr_idx, tr_idx)]\n",
    "            K_va = K_full[np.ix_(va_idx, tr_idx)]\n",
    "            clf = SVC(kernel=\"precomputed\", C=C).fit(K_tr, ytr[tr_idx])\n",
    "            scores.append(accuracy_score(ytr[va_idx], clf.predict(K_va)))\n",
    "        avg = np.mean(scores)\n",
    "        if avg > best_acc:\n",
    "            best_acc, best_C = avg, C\n",
    "\n",
    "    # Final fit & test accuracy\n",
    "    clf_final = SVC(kernel=\"precomputed\", C=best_C).fit(K_full, ytr)\n",
    "    test_acc = accuracy_score(yte, clf_final.predict(K_test))\n",
    "    return test_acc, best_C\n"
   ]
  },
  {
   "cell_type": "code",
   "execution_count": 6,
   "id": "d8f80826-2420-4d2e-abe5-acc075429102",
   "metadata": {},
   "outputs": [
    {
     "name": "stdout",
     "output_type": "stream",
     "text": [
      "Simple fmap: Best C=0.1, Test acc=86.67%\n",
      "Deep   fmap: Best C=5, Test acc=98.33%\n"
     ]
    }
   ],
   "source": [
    "C_grid = [0.1, 0.5, 1, 2, 5, 10]\n",
    "\n",
    "acc_simple, bestC_simple = tune_qsvm_precomputed(K_full_simple, K_test_simple, ytr, yte, C_grid)\n",
    "acc_deep, bestC_deep     = tune_qsvm_precomputed(K_full_deep,   K_test_deep,   ytr, yte, C_grid)\n",
    "\n",
    "print(f\"Simple fmap: Best C={bestC_simple}, Test acc={acc_simple*100:.2f}%\")\n",
    "print(f\"Deep   fmap: Best C={bestC_deep}, Test acc={acc_deep*100:.2f}%\")\n"
   ]
  },
  {
   "cell_type": "code",
   "execution_count": null,
   "id": "af0cf0f2-6597-45db-96d2-64406056b679",
   "metadata": {},
   "outputs": [],
   "source": [
    " "
   ]
  }
 ],
 "metadata": {
  "kernelspec": {
   "display_name": "Python 3 (ipykernel)",
   "language": "python",
   "name": "python3"
  },
  "language_info": {
   "codemirror_mode": {
    "name": "ipython",
    "version": 3
   },
   "file_extension": ".py",
   "mimetype": "text/x-python",
   "name": "python",
   "nbconvert_exporter": "python",
   "pygments_lexer": "ipython3",
   "version": "3.10.18"
  }
 },
 "nbformat": 4,
 "nbformat_minor": 5
}
